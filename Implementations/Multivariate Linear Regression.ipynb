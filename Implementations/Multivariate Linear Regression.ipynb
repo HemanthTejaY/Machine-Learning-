{
 "cells": [
  {
   "cell_type": "markdown",
   "metadata": {},
   "source": [
    "# ML
   ]
  },
  {
   "cell_type": "markdown",
   "metadata": {},
   "source": [
    "## NAME : Y.Hemanth Teja "
   ]
  },
  {
   "cell_type": "code",
   "execution_count": 1,
   "metadata": {},
   "outputs": [],
   "source": [
    "from sklearn import datasets\n",
    "import pandas as pd\n",
    "import numpy as np\n",
    "from matplotlib import cm\n",
    "import matplotlib.pyplot as plt"
   ]
  },
  {
   "cell_type": "code",
   "execution_count": 2,
   "metadata": {},
   "outputs": [],
   "source": [
    "# Load the diabetes dataset\n",
    "diabetes = datasets.load_diabetes()\n",
    "X_train= diabetes.data\n",
    "Y_train = diabetes.target"
   ]
  },
  {
   "cell_type": "code",
   "execution_count": 3,
   "metadata": {},
   "outputs": [
    {
     "data": {
      "text/plain": [
       "dict_keys(['data', 'target', 'DESCR', 'feature_names'])"
      ]
     },
     "execution_count": 3,
     "metadata": {},
     "output_type": "execute_result"
    }
   ],
   "source": [
    "diabetes.keys()"
   ]
  },
  {
   "cell_type": "markdown",
   "metadata": {},
   "source": [
    "#### Creating a data frame to store the dataset"
   ]
  },
  {
   "cell_type": "code",
   "execution_count": 4,
   "metadata": {},
   "outputs": [],
   "source": [
    "df = pd.DataFrame(data = diabetes.data)"
   ]
  },
  {
   "cell_type": "code",
   "execution_count": 5,
   "metadata": {},
   "outputs": [],
   "source": [
    "df.columns = diabetes.feature_names"
   ]
  },
  {
   "cell_type": "markdown",
   "metadata": {},
   "source": [
    "### Visualizing the dataset"
   ]
  },
  {
   "cell_type": "code",
   "execution_count": 6,
   "metadata": {},
   "outputs": [
    {
     "data": {
      "text/html": [
       "<div>\n",
       "<style scoped>\n",
       "    .dataframe tbody tr th:only-of-type {\n",
       "        vertical-align: middle;\n",
       "    }\n",
       "\n",
       "    .dataframe tbody tr th {\n",
       "        vertical-align: top;\n",
       "    }\n",
       "\n",
       "    .dataframe thead th {\n",
       "        text-align: right;\n",
       "    }\n",
       "</style>\n",
       "<table border=\"1\" class=\"dataframe\">\n",
       "  <thead>\n",
       "    <tr style=\"text-align: right;\">\n",
       "      <th></th>\n",
       "      <th>age</th>\n",
       "      <th>sex</th>\n",
       "      <th>bmi</th>\n",
       "      <th>bp</th>\n",
       "      <th>s1</th>\n",
       "      <th>s2</th>\n",
       "      <th>s3</th>\n",
       "      <th>s4</th>\n",
       "      <th>s5</th>\n",
       "      <th>s6</th>\n",
       "    </tr>\n",
       "  </thead>\n",
       "  <tbody>\n",
       "    <tr>\n",
       "      <th>0</th>\n",
       "      <td>0.038076</td>\n",
       "      <td>0.050680</td>\n",
       "      <td>0.061696</td>\n",
       "      <td>0.021872</td>\n",
       "      <td>-0.044223</td>\n",
       "      <td>-0.034821</td>\n",
       "      <td>-0.043401</td>\n",
       "      <td>-0.002592</td>\n",
       "      <td>0.019908</td>\n",
       "      <td>-0.017646</td>\n",
       "    </tr>\n",
       "    <tr>\n",
       "      <th>1</th>\n",
       "      <td>-0.001882</td>\n",
       "      <td>-0.044642</td>\n",
       "      <td>-0.051474</td>\n",
       "      <td>-0.026328</td>\n",
       "      <td>-0.008449</td>\n",
       "      <td>-0.019163</td>\n",
       "      <td>0.074412</td>\n",
       "      <td>-0.039493</td>\n",
       "      <td>-0.068330</td>\n",
       "      <td>-0.092204</td>\n",
       "    </tr>\n",
       "    <tr>\n",
       "      <th>2</th>\n",
       "      <td>0.085299</td>\n",
       "      <td>0.050680</td>\n",
       "      <td>0.044451</td>\n",
       "      <td>-0.005671</td>\n",
       "      <td>-0.045599</td>\n",
       "      <td>-0.034194</td>\n",
       "      <td>-0.032356</td>\n",
       "      <td>-0.002592</td>\n",
       "      <td>0.002864</td>\n",
       "      <td>-0.025930</td>\n",
       "    </tr>\n",
       "    <tr>\n",
       "      <th>3</th>\n",
       "      <td>-0.089063</td>\n",
       "      <td>-0.044642</td>\n",
       "      <td>-0.011595</td>\n",
       "      <td>-0.036656</td>\n",
       "      <td>0.012191</td>\n",
       "      <td>0.024991</td>\n",
       "      <td>-0.036038</td>\n",
       "      <td>0.034309</td>\n",
       "      <td>0.022692</td>\n",
       "      <td>-0.009362</td>\n",
       "    </tr>\n",
       "    <tr>\n",
       "      <th>4</th>\n",
       "      <td>0.005383</td>\n",
       "      <td>-0.044642</td>\n",
       "      <td>-0.036385</td>\n",
       "      <td>0.021872</td>\n",
       "      <td>0.003935</td>\n",
       "      <td>0.015596</td>\n",
       "      <td>0.008142</td>\n",
       "      <td>-0.002592</td>\n",
       "      <td>-0.031991</td>\n",
       "      <td>-0.046641</td>\n",
       "    </tr>\n",
       "  </tbody>\n",
       "</table>\n",
       "</div>"
      ],
      "text/plain": [
       "        age       sex       bmi        bp        s1        s2        s3  \\\n",
       "0  0.038076  0.050680  0.061696  0.021872 -0.044223 -0.034821 -0.043401   \n",
       "1 -0.001882 -0.044642 -0.051474 -0.026328 -0.008449 -0.019163  0.074412   \n",
       "2  0.085299  0.050680  0.044451 -0.005671 -0.045599 -0.034194 -0.032356   \n",
       "3 -0.089063 -0.044642 -0.011595 -0.036656  0.012191  0.024991 -0.036038   \n",
       "4  0.005383 -0.044642 -0.036385  0.021872  0.003935  0.015596  0.008142   \n",
       "\n",
       "         s4        s5        s6  \n",
       "0 -0.002592  0.019908 -0.017646  \n",
       "1 -0.039493 -0.068330 -0.092204  \n",
       "2 -0.002592  0.002864 -0.025930  \n",
       "3  0.034309  0.022692 -0.009362  \n",
       "4 -0.002592 -0.031991 -0.046641  "
      ]
     },
     "execution_count": 6,
     "metadata": {},
     "output_type": "execute_result"
    }
   ],
   "source": [
    "df.head()"
   ]
  },
  {
   "cell_type": "markdown",
   "metadata": {},
   "source": [
    "### Setting the target variable"
   ]
  },
  {
   "cell_type": "code",
   "execution_count": 7,
   "metadata": {},
   "outputs": [],
   "source": [
    "df['Target'] = diabetes.target"
   ]
  },
  {
   "cell_type": "code",
   "execution_count": 8,
   "metadata": {},
   "outputs": [],
   "source": [
    "df = df.rename(columns = {'Target':'Diabetes Result'})"
   ]
  },
  {
   "cell_type": "markdown",
   "metadata": {},
   "source": [
    "# NOTE  : I have implemented 2 methods.  \n",
    "### The first method involves understanding the correlation of the various features with respect to the target variable and picking the best features. This method has been implemented from scratch , as well as using SKLEARN. \n",
    "\n",
    "### The second method - is the goal of the assignment- where we use all the features as a part of the multivariate regression. This method has also been implemented from scratch , as well as using SKLEARN."
   ]
  },
  {
   "cell_type": "markdown",
   "metadata": {},
   "source": [
    "### Finding the correlation of the various features with respect to the target variable"
   ]
  },
  {
   "cell_type": "code",
   "execution_count": 9,
   "metadata": {},
   "outputs": [],
   "source": [
    "CORR_VALUES = df.corr()"
   ]
  },
  {
   "cell_type": "markdown",
   "metadata": {},
   "source": [
    "## Description of the dataset  "
   ]
  },
  {
   "cell_type": "code",
   "execution_count": 10,
   "metadata": {},
   "outputs": [
    {
     "name": "stdout",
     "output_type": "stream",
     "text": [
      "Diabetes dataset\n",
      "================\n",
      "\n",
      "Notes\n",
      "-----\n",
      "\n",
      "Ten baseline variables, age, sex, body mass index, average blood\n",
      "pressure, and six blood serum measurements were obtained for each of n =\n",
      "442 diabetes patients, as well as the response of interest, a\n",
      "quantitative measure of disease progression one year after baseline.\n",
      "\n",
      "Data Set Characteristics:\n",
      "\n",
      "  :Number of Instances: 442\n",
      "\n",
      "  :Number of Attributes: First 10 columns are numeric predictive values\n",
      "\n",
      "  :Target: Column 11 is a quantitative measure of disease progression one year after baseline\n",
      "\n",
      "  :Attributes:\n",
      "    :Age:\n",
      "    :Sex:\n",
      "    :Body mass index:\n",
      "    :Average blood pressure:\n",
      "    :S1:\n",
      "    :S2:\n",
      "    :S3:\n",
      "    :S4:\n",
      "    :S5:\n",
      "    :S6:\n",
      "\n",
      "Note: Each of these 10 feature variables have been mean centered and scaled by the standard deviation times `n_samples` (i.e. the sum of squares of each column totals 1).\n",
      "\n",
      "Source URL:\n",
      "http://www4.stat.ncsu.edu/~boos/var.select/diabetes.html\n",
      "\n",
      "For more information see:\n",
      "Bradley Efron, Trevor Hastie, Iain Johnstone and Robert Tibshirani (2004) \"Least Angle Regression,\" Annals of Statistics (with discussion), 407-499.\n",
      "(http://web.stanford.edu/~hastie/Papers/LARS/LeastAngle_2002.pdf)\n",
      "\n"
     ]
    }
   ],
   "source": [
    "print(diabetes.DESCR)"
   ]
  },
  {
   "cell_type": "code",
   "execution_count": 11,
   "metadata": {},
   "outputs": [
    {
     "data": {
      "text/plain": [
       "Diabetes Result    1.000000\n",
       "bmi                0.586450\n",
       "s5                 0.565883\n",
       "bp                 0.441484\n",
       "s4                 0.430453\n",
       "s6                 0.382483\n",
       "s1                 0.212022\n",
       "age                0.187889\n",
       "s2                 0.174054\n",
       "sex                0.043062\n",
       "s3                -0.394789\n",
       "Name: Diabetes Result, dtype: float64"
      ]
     },
     "execution_count": 11,
     "metadata": {},
     "output_type": "execute_result"
    }
   ],
   "source": [
    "CORR_VALUES['Diabetes Result'].sort_values(ascending = False)"
   ]
  },
  {
   "cell_type": "markdown",
   "metadata": {},
   "source": [
    "#### BMI, Serem 5 are well correlated with the diabetes output.\n",
    "#### However, SEREM-3 is well (negatively) correlated with Diabetes Output too. \n",
    "\n",
    "### Let us analyze the absolute values of the correlation."
   ]
  },
  {
   "cell_type": "code",
   "execution_count": 12,
   "metadata": {},
   "outputs": [
    {
     "data": {
      "text/plain": [
       "Diabetes Result    1.000000\n",
       "bmi                0.586450\n",
       "s5                 0.565883\n",
       "bp                 0.441484\n",
       "s4                 0.430453\n",
       "s3                 0.394789\n",
       "s6                 0.382483\n",
       "s1                 0.212022\n",
       "age                0.187889\n",
       "s2                 0.174054\n",
       "sex                0.043062\n",
       "Name: Diabetes Result, dtype: float64"
      ]
     },
     "execution_count": 12,
     "metadata": {},
     "output_type": "execute_result"
    }
   ],
   "source": [
    "SET_OF_CORR_VALUES = CORR_VALUES['Diabetes Result'].abs().sort_values(ascending = False)\n",
    "SET_OF_CORR_VALUES"
   ]
  },
  {
   "cell_type": "markdown",
   "metadata": {},
   "source": [
    "# IMPLEMENTATION - METHOD 1 \n",
    "\n",
    "## From the scratch - without using SKLEARN "
   ]
  },
  {
   "cell_type": "markdown",
   "metadata": {},
   "source": [
    "### So,let's perform multivariate linear regression analysis with these two features - BMI & SEREM 5."
   ]
  },
  {
   "cell_type": "markdown",
   "metadata": {},
   "source": [
    "## Data Preprocessing "
   ]
  },
  {
   "cell_type": "code",
   "execution_count": 13,
   "metadata": {},
   "outputs": [],
   "source": [
    "from sklearn import preprocessing"
   ]
  },
  {
   "cell_type": "code",
   "execution_count": 14,
   "metadata": {},
   "outputs": [],
   "source": [
    "x_BMI = preprocessing.scale(df['bmi'])\n",
    "x_Serem5 = preprocessing.scale(df['s5'])\n",
    "y = preprocessing.scale(df['Diabetes Result'])"
   ]
  },
  {
   "cell_type": "code",
   "execution_count": 15,
   "metadata": {},
   "outputs": [],
   "source": [
    "from pylab import rcParams\n",
    "rcParams['figure.figsize'] = 12,8"
   ]
  },
  {
   "cell_type": "markdown",
   "metadata": {},
   "source": [
    "# Plotting both BMI and SEREM-5 in the same plot"
   ]
  },
  {
   "cell_type": "code",
   "execution_count": 16,
   "metadata": {},
   "outputs": [
    {
     "data": {
      "image/png": "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\n",
      "text/plain": [
       "<Figure size 864x576 with 1 Axes>"
      ]
     },
     "metadata": {
      "needs_background": "light"
     },
     "output_type": "display_data"
    }
   ],
   "source": [
    "plt.scatter(y, x_BMI, s=5, label = 'bmi')\n",
    "plt.scatter(y, x_Serem5, s=5, label = 's5')\n",
    "plt.legend(fontsize=15)\n",
    "plt.xlabel('BMI Index & Serem 5', fontsize=15)\n",
    "plt.ylabel('Diabetes Output', fontsize=15)\n",
    "plt.legend()\n",
    "plt.show()"
   ]
  },
  {
   "cell_type": "markdown",
   "metadata": {},
   "source": [
    "### Implementing from SCRATCH"
   ]
  },
  {
   "cell_type": "markdown",
   "metadata": {},
   "source": [
    "### Furthermore,  adding column of ones to X-Vector"
   ]
  },
  {
   "cell_type": "code",
   "execution_count": 17,
   "metadata": {},
   "outputs": [],
   "source": [
    "x = np.c_[np.ones(x_BMI.shape[0]),x_BMI, x_Serem5]"
   ]
  },
  {
   "cell_type": "markdown",
   "metadata": {},
   "source": [
    "## Setting the Parameters for Gradient Descent - Learning rate and Number of epochs"
   ]
  },
  {
   "cell_type": "code",
   "execution_count": 18,
   "metadata": {},
   "outputs": [],
   "source": [
    "alpha = 0.0001  \n",
    "m = y.size  #no. of samples\n",
    "np.random.seed(10)\n",
    "theta = np.random.rand(3)  "
   ]
  },
  {
   "cell_type": "code",
   "execution_count": 19,
   "metadata": {},
   "outputs": [],
   "source": [
    "def gradient_descent(x, y, m, theta, alpha):\n",
    "    cost_list = []   # We store the costs of multiple epochs\n",
    "    theta_list = []  #To store the values of theta-1 and 2 for various epochs. \n",
    "    prediction_list = []\n",
    "    flag = True\n",
    "    cost_list.append(1e10)    \n",
    "    i=0\n",
    "    while flag:\n",
    "        prediction = np.dot(x, theta)   \n",
    "        prediction_list.append(prediction)\n",
    "        error = prediction - y\n",
    "        cost = 1/(2*m) * np.dot(error.T, error)   \n",
    "        cost_list.append(cost)\n",
    "        theta = theta - (alpha * (1/m) * np.dot(x.T, error))\n",
    "        theta_list.append(theta)\n",
    "        if cost_list[i]-cost_list[i+1] < 1e-9:  \n",
    "            flag = False\n",
    "\n",
    "        i+=1\n",
    "    cost_list.pop(0)\n",
    "    return prediction_list, cost_list, theta_list"
   ]
  },
  {
   "cell_type": "code",
   "execution_count": 20,
   "metadata": {},
   "outputs": [],
   "source": [
    "prediction_list, cost_list, theta_list = gradient_descent(x, y, m, theta, alpha)\n",
    "theta = theta_list[-1]"
   ]
  },
  {
   "cell_type": "markdown",
   "metadata": {},
   "source": [
    "# Plotting a graph between costs incuured with respect to the number of iterations"
   ]
  },
  {
   "cell_type": "code",
   "execution_count": 21,
   "metadata": {},
   "outputs": [
    {
     "data": {
      "image/png": "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\n",
      "text/plain": [
       "<Figure size 864x576 with 1 Axes>"
      ]
     },
     "metadata": {
      "needs_background": "light"
     },
     "output_type": "display_data"
    }
   ],
   "source": [
    "plt.title('Cost Function', size = 30)\n",
    "plt.xlabel('Total No. of iterations', size=20)\n",
    "plt.ylabel('Cost of Model', size=20)\n",
    "plt.plot(cost_list)\n",
    "plt.show()"
   ]
  },
  {
   "cell_type": "markdown",
   "metadata": {},
   "source": [
    "### Establishing the equation of the hyperplane"
   ]
  },
  {
   "cell_type": "code",
   "execution_count": 22,
   "metadata": {},
   "outputs": [],
   "source": [
    "yp = theta[0] +theta[1]*x[:,1] + theta[2]*x[:,2]"
   ]
  },
  {
   "cell_type": "markdown",
   "metadata": {},
   "source": [
    "### Printing the values attained from GRADIENT DESCENT - Intercept & Theta values "
   ]
  },
  {
   "cell_type": "code",
   "execution_count": 23,
   "metadata": {},
   "outputs": [
    {
     "name": "stdout",
     "output_type": "stream",
     "text": [
      "Value of Intercept : 0.0\n",
      "Final Value of Theta-0 : 0.413\n",
      "Final Value of Theta-1 : 0.3839\n"
     ]
    }
   ],
   "source": [
    "print('Value of Intercept : {}'.format(round(theta[0],3)))\n",
    "print('Final Value of Theta-0 : {}'.format(round(theta[1],4)))\n",
    "print('Final Value of Theta-1 : {}'.format(round(theta[2],4)))"
   ]
  },
  {
   "cell_type": "markdown",
   "metadata": {},
   "source": [
    "## Furthermore, computing the - \"Mean Square of Residuals\""
   ]
  },
  {
   "cell_type": "markdown",
   "metadata": {},
   "source": [
    "## MSE -  Gradient descent - Method 1 (Using only 2 Parameters)"
   ]
  },
  {
   "cell_type": "code",
   "execution_count": 24,
   "metadata": {},
   "outputs": [
    {
     "name": "stdout",
     "output_type": "stream",
     "text": [
      "MSE using equation of hyperplane : 0.541\n",
      "MSE from Gradient Descent prediction : 0.541\n"
     ]
    }
   ],
   "source": [
    "MSE_Hyper_PLANE = ((yp-y)**2).mean()  \n",
    "MSE_Gradient_Descent = ((prediction_list[-1]-y)**2).mean()  \n",
    "\n",
    "\n",
    "print('MSE using equation of hyperplane : {}'.format(round(MSE_Hyper_PLANE,3)))\n",
    "print('MSE from Gradient Descent prediction : {}'.format(round(MSE_Gradient_Descent,3)))"
   ]
  },
  {
   "cell_type": "markdown",
   "metadata": {},
   "source": [
    "# USING SKLEARN TO COMPUTE THE SAME MODEL \n",
    "\n",
    "## Note - This is the SKLEARN implementation of METHOD-1 (where we consider only 2 most important factors for multivariate regression)"
   ]
  },
  {
   "cell_type": "code",
   "execution_count": 25,
   "metadata": {},
   "outputs": [],
   "source": [
    "from sklearn.linear_model import LinearRegression"
   ]
  },
  {
   "cell_type": "code",
   "execution_count": 26,
   "metadata": {},
   "outputs": [],
   "source": [
    "ys = df['Diabetes Result']\n",
    "xs = np.c_[df['bmi'],df['s5']]"
   ]
  },
  {
   "cell_type": "markdown",
   "metadata": {},
   "source": [
    "### Printing the dimensions -  Of the ys and xs vectors"
   ]
  },
  {
   "cell_type": "code",
   "execution_count": 27,
   "metadata": {},
   "outputs": [
    {
     "data": {
      "text/plain": [
       "((442,), (442, 2))"
      ]
     },
     "execution_count": 27,
     "metadata": {},
     "output_type": "execute_result"
    }
   ],
   "source": [
    "ys.shape, xs.shape"
   ]
  },
  {
   "cell_type": "markdown",
   "metadata": {},
   "source": [
    "## Data Preprocessing - For SKLEARN"
   ]
  },
  {
   "cell_type": "code",
   "execution_count": 28,
   "metadata": {},
   "outputs": [],
   "source": [
    "xs = preprocessing.scale(xs)\n",
    "ys = preprocessing.scale(ys)"
   ]
  },
  {
   "cell_type": "code",
   "execution_count": 29,
   "metadata": {},
   "outputs": [],
   "source": [
    "lm = LinearRegression()\n",
    "\n",
    "#Fitting the model\n",
    "lm = lm.fit(xs,ys)"
   ]
  },
  {
   "cell_type": "code",
   "execution_count": 30,
   "metadata": {},
   "outputs": [],
   "source": [
    "pred = lm.predict(xs)"
   ]
  },
  {
   "cell_type": "markdown",
   "metadata": {},
   "source": [
    "### NOTE : Our predicted vector has to be of same size as of ys. Let's verify that ...."
   ]
  },
  {
   "cell_type": "code",
   "execution_count": 31,
   "metadata": {},
   "outputs": [
    {
     "data": {
      "text/plain": [
       "(442,)"
      ]
     },
     "execution_count": 31,
     "metadata": {},
     "output_type": "execute_result"
    }
   ],
   "source": [
    "pred.shape"
   ]
  },
  {
   "cell_type": "markdown",
   "metadata": {},
   "source": [
    "### Printing the values attained from SKLEARN - Intercept & Theta values "
   ]
  },
  {
   "cell_type": "code",
   "execution_count": 32,
   "metadata": {},
   "outputs": [
    {
     "name": "stdout",
     "output_type": "stream",
     "text": [
      "Value of Intercept : -0.0\n",
      "Value of Theta-0 : 0.417\n",
      "Value of Theta-1 : 0.3798\n"
     ]
    }
   ],
   "source": [
    "intercept = lm.intercept_\n",
    "Theta_0 = lm.coef_[0]\n",
    "Theta_1 = lm.coef_[1]\n",
    "\n",
    "print('Value of Intercept : {}'.format(round(intercept,3)))\n",
    "print('Value of Theta-0 : {}'.format(round(Theta_0,4)))\n",
    "print('Value of Theta-1 : {}'.format(round(Theta_1,4)))"
   ]
  },
  {
   "cell_type": "markdown",
   "metadata": {},
   "source": [
    "### INFERENCE : We got the same values using the from-the-scratch method. (Method -1)"
   ]
  },
  {
   "cell_type": "markdown",
   "metadata": {},
   "source": [
    "### Now, let us compute the R-SQUARE value from the SCIKIT LEARN  - METHOD 1"
   ]
  },
  {
   "cell_type": "code",
   "execution_count": 33,
   "metadata": {},
   "outputs": [
    {
     "name": "stdout",
     "output_type": "stream",
     "text": [
      "R square from sci-kit learn: 0.4595\n"
     ]
    }
   ],
   "source": [
    "r2_sk = lm.score(xs,ys)\n",
    "print('R square from sci-kit learn: {}'.format(round(r2_sk,4)))"
   ]
  },
  {
   "cell_type": "markdown",
   "metadata": {},
   "source": [
    "### Furthermore, let us compute the R-SQUARE value from the gradient descent built from scratch - METHOD 1"
   ]
  },
  {
   "cell_type": "code",
   "execution_count": 34,
   "metadata": {},
   "outputs": [
    {
     "name": "stdout",
     "output_type": "stream",
     "text": [
      "R square doing from the scratch: 0.4595\n"
     ]
    }
   ],
   "source": [
    "r2 = 1 - (sum((y - prediction_list[-1])**2)) / (sum((y - y.mean())**2))\n",
    "print('R square doing from the scratch: {}'.format(round(r2,4)))"
   ]
  },
  {
   "cell_type": "markdown",
   "metadata": {},
   "source": [
    "## RESULT : When we used only 2 parameters - BMI and SEREM5 to build the from the scratch gradient descent and SKLEARN based model, we attained the following values:\n",
    "\n",
    "### R- SQAURE - GRADIENT DESCENT (From the scratch) - 0.4595\n",
    "### R-SQUARE - SKLEARN - 0.4595\n",
    "\n",
    "##### Therefore, we have verified our implementation using SKLEARN."
   ]
  },
  {
   "cell_type": "markdown",
   "metadata": {},
   "source": [
    "# WHAT IF WE USED ALL THE PARAMETERS FOR GRADIENT DESCENT?\n",
    "\n",
    "## Method 2 - Main Goal of the assignment "
   ]
  },
  {
   "cell_type": "markdown",
   "metadata": {},
   "source": [
    "## METHOD 2\n",
    "\n",
    "## IMPLEMENTING GRADIENT DESCENT FROM THE SCRATCH"
   ]
  },
  {
   "cell_type": "markdown",
   "metadata": {},
   "source": [
    "## Preprocessing the data before applying GRADIENT DESCENT "
   ]
  },
  {
   "cell_type": "code",
   "execution_count": 35,
   "metadata": {},
   "outputs": [],
   "source": [
    "from sklearn import preprocessing"
   ]
  },
  {
   "cell_type": "code",
   "execution_count": 36,
   "metadata": {},
   "outputs": [],
   "source": [
    "x2_BMI = preprocessing.scale(df['bmi'])\n",
    "x2_BP = preprocessing.scale(df['bp'])\n",
    "x2_SEX = preprocessing.scale(df['sex'])\n",
    "x2_AGE= preprocessing.scale(df['age'])\n",
    "x2_Serem1 = preprocessing.scale(df['s1'])\n",
    "x2_Serem2 = preprocessing.scale(df['s2'])\n",
    "x2_Serem3 = preprocessing.scale(df['s3'])\n",
    "x2_Serem4 = preprocessing.scale(df['s4'])\n",
    "x2_Serem5 = preprocessing.scale(df['s5'])\n",
    "x2_Serem6 = preprocessing.scale(df['s6'])\n",
    "y2 = preprocessing.scale(df['Diabetes Result'])"
   ]
  },
  {
   "cell_type": "markdown",
   "metadata": {},
   "source": [
    "## Furthermore, let's add column of ones to x vector"
   ]
  },
  {
   "cell_type": "code",
   "execution_count": 37,
   "metadata": {},
   "outputs": [],
   "source": [
    "x2 = np.c_[np.ones(x2_BMI.shape[0]),x2_BMI,x2_BP,x2_SEX,x2_AGE,x2_Serem1,x2_Serem2,x2_Serem3,x2_Serem4, x2_Serem5,x2_Serem6]"
   ]
  },
  {
   "cell_type": "markdown",
   "metadata": {},
   "source": [
    "## Defining the parameters such as learning rate and sample size..."
   ]
  },
  {
   "cell_type": "code",
   "execution_count": 38,
   "metadata": {},
   "outputs": [],
   "source": [
    "alpha2 = 0.0001   \n",
    "m2 = y2.size  \n",
    "np.random.seed(10)\n",
    "theta2 = np.random.rand(11)  "
   ]
  },
  {
   "cell_type": "code",
   "execution_count": 39,
   "metadata": {},
   "outputs": [],
   "source": [
    "def gradient_descent2(x2, y2, m2, theta2, alpha2):\n",
    "    cost_list2 = []   #to record all cost values to this list\n",
    "    theta_list2 = []  #to record all theta_0 and theta_1 values to this list \n",
    "    prediction_list2 = []\n",
    "    run2 = True\n",
    "    cost_list2.append(1e10)    #we append some large value to the cost list\n",
    "    i=0\n",
    "    while run2:\n",
    "        prediction2 = np.dot(x2, theta2)   #predicted y values theta_0*x0+theta_1*x1\n",
    "        prediction_list2.append(prediction2)\n",
    "        error2 = prediction2 - y2\n",
    "        cost2 = 1/(2*m2) * np.dot(error2.T, error2)   #  (1/2m)*sum[(error)^2]\n",
    "        cost_list2.append(cost2)\n",
    "        theta2 = theta2 - (alpha2 * (1/m2) * np.dot(x2.T, error2))   # alpha * (1/m) * sum[error*x]\n",
    "        theta_list2.append(theta2)\n",
    "        if cost_list2[i]-cost_list2[i+1] < 1e-9:   #checking if the change in cost function is less than 10^(-9)\n",
    "            run2 = False\n",
    "\n",
    "        i+=1\n",
    "    cost_list2.pop(0)   # Remove the large number we added in the begining \n",
    "    return prediction_list2, cost_list2, theta_list2"
   ]
  },
  {
   "cell_type": "code",
   "execution_count": 40,
   "metadata": {},
   "outputs": [],
   "source": [
    "prediction_list2, cost_list2, theta_list2 = gradient_descent2(x2, y2, m2, theta2, alpha2)\n",
    "theta2 = theta_list2[-1]"
   ]
  },
  {
   "cell_type": "markdown",
   "metadata": {},
   "source": [
    "# Let us study the graph between the COSTS incurred and the number of iterations "
   ]
  },
  {
   "cell_type": "code",
   "execution_count": 41,
   "metadata": {},
   "outputs": [
    {
     "data": {
      "image/png": "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\n",
      "text/plain": [
       "<Figure size 864x576 with 1 Axes>"
      ]
     },
     "metadata": {
      "needs_background": "light"
     },
     "output_type": "display_data"
    }
   ],
   "source": [
    "plt.title('Cost Function', size = 30)\n",
    "plt.xlabel('Total No. of iterations', size=20)\n",
    "plt.ylabel('Cost Incurred ', size=20)\n",
    "plt.plot(cost_list2)\n",
    "plt.show()"
   ]
  },
  {
   "cell_type": "markdown",
   "metadata": {},
   "source": [
    "## Framing the equation of the hyperplane "
   ]
  },
  {
   "cell_type": "code",
   "execution_count": 42,
   "metadata": {},
   "outputs": [],
   "source": [
    "yp2 = theta2[0] +theta2[1]*x2[:,1] + theta2[2]*x2[:,2] + theta2[3]*x2[:,3] + theta2[4]*x2[:,4]+ theta2[5]*x2[:,5]+theta2[6]*x2[:,6]+theta2[7]*x2[:,7]+theta2[8]*x2[:,8]+theta2[9]*x2[:,9]+theta2[10]*x2[:,10]"
   ]
  },
  {
   "cell_type": "markdown",
   "metadata": {},
   "source": [
    "## Furthermore, computing the MSE - Mean Square of Residuals "
   ]
  },
  {
   "cell_type": "code",
   "execution_count": 43,
   "metadata": {},
   "outputs": [
    {
     "name": "stdout",
     "output_type": "stream",
     "text": [
      "MSE using equation of hyperplane : 0.483\n",
      "MSE from Gradient Descent prediction : 0.483\n"
     ]
    }
   ],
   "source": [
    "MSE_HYPEREQN_2 = ((yp2-y2)**2).mean()  #Using yp from equation of hyperplane\n",
    "MSE_GDescent2 = ((prediction_list2[-1]-y2)**2).mean()  #From Gradient Descent\n",
    "\n",
    "\n",
    "print('MSE using equation of hyperplane : {}'.format(round(MSE_HYPEREQN_2,3)))\n",
    "print('MSE from Gradient Descent prediction : {}'.format(round(MSE_GDescent2,3)))"
   ]
  },
  {
   "cell_type": "markdown",
   "metadata": {},
   "source": [
    "### Furthermore, let us compute the R-SQUARE value from the gradient descent built from scratch."
   ]
  },
  {
   "cell_type": "code",
   "execution_count": 44,
   "metadata": {},
   "outputs": [
    {
     "name": "stdout",
     "output_type": "stream",
     "text": [
      "R square doing from the scratch (METHOD 2): 0.5169\n"
     ]
    }
   ],
   "source": [
    "r2_2 = 1 - (sum((y2 - prediction_list2[-1])**2)) / (sum((y2 - y2.mean())**2))\n",
    "print('R square doing from the scratch (METHOD 2): {}'.format(round(r2_2,4)))"
   ]
  },
  {
   "cell_type": "markdown",
   "metadata": {},
   "source": [
    "## PART B - IMPLENTING THE SAME MODEL USING  SKLEARN"
   ]
  },
  {
   "cell_type": "code",
   "execution_count": 45,
   "metadata": {},
   "outputs": [],
   "source": [
    "ys2 = df['Diabetes Result']\n",
    "xs2 = np.c_[df['bmi'],df['s1'],df['s2'],df['s3'],df['s4'],df['s5'],df['s6'],df['bp'],df['sex'],df['age']]"
   ]
  },
  {
   "cell_type": "code",
   "execution_count": 46,
   "metadata": {},
   "outputs": [
    {
     "data": {
      "text/plain": [
       "((442,), (442, 10))"
      ]
     },
     "execution_count": 46,
     "metadata": {},
     "output_type": "execute_result"
    }
   ],
   "source": [
    "ys2.shape, xs2.shape"
   ]
  },
  {
   "cell_type": "code",
   "execution_count": 47,
   "metadata": {},
   "outputs": [],
   "source": [
    "xs2 = preprocessing.scale(xs2)\n",
    "ys2 = preprocessing.scale(ys2)"
   ]
  },
  {
   "cell_type": "code",
   "execution_count": 48,
   "metadata": {},
   "outputs": [],
   "source": [
    "lm2 = LinearRegression()\n",
    "#Fitting the model\n",
    "lm2 = lm2.fit(xs2,ys2)"
   ]
  },
  {
   "cell_type": "code",
   "execution_count": 49,
   "metadata": {},
   "outputs": [],
   "source": [
    "pred2 = lm2.predict(xs2)"
   ]
  },
  {
   "cell_type": "code",
   "execution_count": 50,
   "metadata": {},
   "outputs": [
    {
     "data": {
      "text/plain": [
       "(442,)"
      ]
     },
     "execution_count": 50,
     "metadata": {},
     "output_type": "execute_result"
    }
   ],
   "source": [
    "pred2.shape"
   ]
  },
  {
   "cell_type": "code",
   "execution_count": 51,
   "metadata": {},
   "outputs": [
    {
     "name": "stdout",
     "output_type": "stream",
     "text": [
      "R square from sci-kit learn: 0.5177\n"
     ]
    }
   ],
   "source": [
    "r2_sk2 = lm2.score(xs2,ys2)\n",
    "print('R square from sci-kit learn: {}'.format(round(r2_sk2,4)))"
   ]
  },
  {
   "cell_type": "markdown",
   "metadata": {},
   "source": [
    "## RESULT : When we used all parameters - BMI , SEX, AGE, BP, s1,s2,s3,s4,s5,s6 -\n",
    "## To build the from the scratch gradient descent and SKLEARN based model, we attained the following values:\n",
    "\n",
    "### R- SQAURE - GRADIENT DESCENT (From the scratch) - 0.5169\n",
    "### R-SQUARE - SKLEARN - 0.5177\n",
    "\n",
    "##### Therefore, we have verified our implementation using SKLEARN."
   ]
  }
 ],
 "metadata": {
  "kernelspec": {
   "display_name": "Python 3",
   "language": "python",
   "name": "python3"
  },
  "language_info": {
   "codemirror_mode": {
    "name": "ipython",
    "version": 3
   },
   "file_extension": ".py",
   "mimetype": "text/x-python",
   "name": "python",
   "nbconvert_exporter": "python",
   "pygments_lexer": "ipython3",
   "version": "3.6.7"
  }
 },
 "nbformat": 4,
 "nbformat_minor": 2
}
